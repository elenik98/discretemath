{
  "nbformat": 4,
  "nbformat_minor": 0,
  "metadata": {
    "colab": {
      "provenance": [],
      "include_colab_link": true
    },
    "kernelspec": {
      "name": "python3",
      "display_name": "Python 3"
    },
    "language_info": {
      "name": "python"
    }
  },
  "cells": [
    {
      "cell_type": "markdown",
      "metadata": {
        "id": "view-in-github",
        "colab_type": "text"
      },
      "source": [
        "<a href=\"https://colab.research.google.com/github/elenik98/discretemath/blob/main/Mid2TH_S24.ipynb\" target=\"_parent\"><img src=\"https://colab.research.google.com/assets/colab-badge.svg\" alt=\"Open In Colab\"/></a>"
      ]
    },
    {
      "cell_type": "markdown",
      "metadata": {
        "id": "lBa6NNmfX7Ty"
      },
      "source": [
        "# Mid2TH\n",
        "\n",
        "This is a Python 3 notebook, created on Google Colab, which you are encouraged to experiment with.  It has questions that appear as [Mid2TH in an Online Assignment on Gradescope](https://www.gradescope.com/courses/702753/assignments/4242892).  Although this introduces advanced material for COMP 550 and programming interviews, my objective is primarily these basics:\n",
        "* practice counting: Q2, Q3\n",
        "* make bijections that prove the sum and product rules for counting: Q4\n",
        "* meet big-$O$ and big-$\\Theta$ notation, which define sets of functions: Q5\n",
        "* use the negation to show that given functions are not in a set: Q6\n",
        "* a relation to compare function growth rates (for program timing): Q7\n",
        "\n",
        "As usual, you are encouraged to collaborate, use office hours, and other sources (but be skeptical, much of what you find on the web is less precise than it should be, especially on big-$O$ notation.)  As always, you must **turn in your own writing/typing** and good scholarship requires that you **cite your sources** and **credit your collaborators**."
      ]
    },
    {
      "cell_type": "markdown",
      "metadata": {
        "id": "bwa6O6Ql6qln"
      },
      "source": [
        "## Using this notebook\n",
        "\n",
        "You don't have to know much about Python to use this notebook. (Two things that will show up later: integers can have arbitrary precision.  Integers and strings are immutable: to change them you have to make a new one.)  You will want to know about **Playground mode**, which will allow you to run the notebook in your own workspace by clicking the play buttons or using the Runtime menu.  There is also a table of contents button on the upper left (below the CO logo) that allows you to navigate this document easily and find the questions.  **Click on ‣ (triangle bullets)** or *```# cells hidden```* to expand hidden cells.\n"
      ]
    },
    {
      "cell_type": "markdown",
      "metadata": {
        "id": "oPY03giWc7xC"
      },
      "source": [
        "### Here are links to brief tutorials\n",
        "* Colab: https://colab.research.google.com/notebooks/intro.ipynb\n",
        "* Python: https://learnxinyminutes.com/docs/python/"
      ]
    },
    {
      "cell_type": "markdown",
      "metadata": {
        "id": "TY5fMcI3ZgqV"
      },
      "source": [
        "### Timing function ```tester(fcn,X,z, plotflag=True)```\n",
        "You can ignore this; it will be used below.\n",
        "This times a given function fcn(k) with inputs k from set X.  It will run each k z times and return an average time.  It can optionally print the time for each k and plot the times on both linear and log scales.  "
      ]
    },
    {
      "cell_type": "code",
      "metadata": {
        "id": "-YkaqtJYRO1K"
      },
      "source": [
        "import timeit\n",
        "import numpy as np\n",
        "from matplotlib import pyplot as plt"
      ],
      "execution_count": null,
      "outputs": []
    },
    {
      "cell_type": "code",
      "metadata": {
        "id": "Nnpo1BMGleeY"
      },
      "source": [
        "def tester(fcn,X,z, plotflag=True):\n",
        "    '''Times fcn(k) for each input k from X.  Each k is run z times. Can print & plot timing results'''\n",
        "    #plotflag and print('    X: ', X)\n",
        "    output = []\n",
        "    for k in X:\n",
        "        if isinstance(k,str):\n",
        "          s1 = fcn+\"('\"+str(k)+\"')\"\n",
        "        else:\n",
        "          s1 = fcn+\"(\"+str(k)+\")\"\n",
        "        s2 = \"from __main__ import \"+fcn\n",
        "        time = timeit.timeit(s1, setup = s2, number = z)\n",
        "        output.append(time/z)\n",
        "\n",
        "    if plotflag:\n",
        "      print(fcn + ': ', output)\n",
        "      fig, axs = plt.subplots(2, 1, sharex='col', sharey='row')\n",
        "      fig.subplots_adjust(hspace=0)\n",
        "      fig.suptitle('Timing ' + fcn + ' with log y and linear y scales')\n",
        "      axis_scale = ('linear','log')\n",
        "      for i in range(2):\n",
        "          if isinstance(X[0],str):\n",
        "            axs[i].plot(list(map(len,X)),output,'.-')\n",
        "          else:\n",
        "            axs[i].plot(X,output,'.-')\n",
        "          axs[i].set_yscale(axis_scale[1-i])\n",
        "      axs[1].set_xlabel('input size (n)')\n",
        "      axs[1].set_ylabel('time (sec)')\n",
        "      plt.show()\n",
        "    return output,X"
      ],
      "execution_count": null,
      "outputs": []
    },
    {
      "cell_type": "markdown",
      "metadata": {
        "id": "0cXA_DDc08P5"
      },
      "source": [
        "# Operation Counting\n",
        "Let's start with a few short programs where you are asked to count the possible outputs or operations.  The result should be a function of $n$, the input value.\n",
        "\n",
        "If you can identify the set of values for loop indices, you can often apply the sum and/or product rule to make counting easier.  \n"
      ]
    },
    {
      "cell_type": "markdown",
      "metadata": {
        "id": "l0Ew7CJrXNHL"
      },
      "source": [
        "## Q2: Nested for loops\n",
        "The functions in Q2 & Q3 count something that depends on their input parameter $n$.  The comment string tells you what they count; the questions ask for the precise formula as a function of $n$.  I'll give you the first answer:  \n",
        "Q2.1: As a function of $n$, what is returned from one_loop(n)?  \n",
        "**Answer:** n.  To see why this is the answer, you'll need to click on  *```1 cell hidden```* just below.  \n",
        "Q2.2: As a function of $n$, what is returned from nested2(n)?  \n",
        "Q2.3: As a function of $n$, what is returned from nested_ij(n)?  \n",
        "Q2.4: As a function of $n$, what is returned from nested_ijk(n)?  \n",
        "Q2.5: As a function of $n$, what is returned from nested3(n)?\n",
        "\n",
        "*Hint: consider the set of pairs or triples that can be assigned to the loop variables; find a way to count elements of that set.*"
      ]
    },
    {
      "cell_type": "code",
      "metadata": {
        "id": "kwmpkT4UWtfr"
      },
      "source": [
        "def one_loop(n):\n",
        "    ''' One loop, from 0 to n-1 '''\n",
        "    count = 0\n",
        "    for i in range(n):\n",
        "        count += 1\n",
        "    return count\n",
        "\n",
        "def nested2(n):\n",
        "    ''' Two nested loops from 0 to n-1 '''\n",
        "    count = 0\n",
        "    for i in range(n):\n",
        "        for j in range(n):\n",
        "            count += 1\n",
        "    return count\n",
        "\n",
        "def nested_ij(n):\n",
        "    ''' Nested loops: outer i from 0 to n-1; inner from 0 to i-1 '''\n",
        "    count = 0\n",
        "    for i in range(n):\n",
        "        for j in range(i):\n",
        "            count += 1\n",
        "    return count\n",
        "\n",
        "def nested_ijk(n):\n",
        "    ''' Nested loops: outer i from 0 to n-1; middle j from 0 to i-1; inner k from 0 to j-1 '''\n",
        "    count = 0\n",
        "    for i in range(n):\n",
        "        for j in range(i):\n",
        "            for k in range(j):\n",
        "                count += 1\n",
        "    return count\n",
        "\n",
        "def nested3(n):\n",
        "    ''' Three nested loops from 0 to n-1 '''\n",
        "    count = 0\n",
        "    for i in range(n):\n",
        "        for j in range(n):\n",
        "            for k in range(n):\n",
        "                count += 1\n",
        "    return count"
      ],
      "execution_count": null,
      "outputs": []
    },
    {
      "cell_type": "markdown",
      "metadata": {
        "id": "8ZXEVciCXhFu"
      },
      "source": [
        "## Q3: Counters\n",
        "We can determine the range of an odometer by studying the ranges of its digits, rather than by counting each mile.  In the same way, we can count how many tuples of a specified type each of these short programs generates.  \n",
        "Q3.1: As a function of $n$, what is returned from binary_count(n)?  \n",
        "Q3.2: As a function of $n$, what is returned from n_count(n)?  \n",
        "Q3.3: As a function of $n$, what is returned from nondecr_count(n)?  \n",
        "Q3.4: As a function of $n$, what is returned from i_count(n)?  \n",
        "Q3.5: As a function of $n$, what is returned from incr_count(n)?  \n",
        "\n",
        "These optionally print their outputs if printflag is True; expand cells below for examples.  Use only for small n."
      ]
    },
    {
      "cell_type": "code",
      "metadata": {
        "id": "uqJViA93WjfK"
      },
      "source": [
        "def binary_count(n, printflag = False):\n",
        "    printflag and print( n , \"-bit binary numbers, least significant bit first\")\n",
        "    A = np.zeros(n, 'int')\n",
        "    count = 0\n",
        "    i = 0\n",
        "    while i < n:\n",
        "        printflag and print(A)\n",
        "        count += 1\n",
        "        A[0] += 1\n",
        "        i = 0\n",
        "        while A[i] > 1:\n",
        "            A[i] = 0\n",
        "            i = i+1\n",
        "            if i == n: break\n",
        "            A[i] += 1\n",
        "    return count\n",
        "\n",
        "def n_count(n, printflag = False):\n",
        "    printflag and print(f'{n}-tuples from [0..{n-1}].  Order matters, repetition allowed.')\n",
        "    A = np.zeros(n, 'int')\n",
        "    count = 0\n",
        "    i = 0\n",
        "    while i < n:\n",
        "        printflag and print(A)\n",
        "        count += 1\n",
        "        A[0] += 1\n",
        "        i = 0\n",
        "        while A[i] >= n:\n",
        "            A[i] = 0\n",
        "            i = i+1\n",
        "            if i == n: break\n",
        "            A[i] += 1\n",
        "    return count\n",
        "\n",
        "def nondecr_count(n, printflag = False):\n",
        "    printflag and print(f'Choose {n} from  [0..{n-1}] with repetition.  List as non-decreasing {n}- tuple.')\n",
        "    A = np.zeros(n, 'int')\n",
        "    count = 0\n",
        "    i = 0\n",
        "    while A[n-1] < n:\n",
        "        printflag and print(A)\n",
        "        count += 1\n",
        "        A[0] += 1\n",
        "        i = 0\n",
        "        while i < n-1 and A[i] > A[i+1]:\n",
        "            A[i] = 0\n",
        "            i = i+1\n",
        "            A[i] += 1\n",
        "    return count\n",
        "\n",
        "def i_count(n, printflag = False):\n",
        "    printflag and print(f'{n}-tuples where the ith element is from  [0..{n}-i].  Order matters, repetition allowed.')\n",
        "    A = np.zeros(n, 'int')\n",
        "    count = 0\n",
        "    i = 0\n",
        "    while i < n:\n",
        "        printflag and print(A)\n",
        "        count += 1\n",
        "        A[0] += 1\n",
        "        i = 0\n",
        "        while A[i] >= n-i:\n",
        "            A[i] = 0\n",
        "            i = i+1\n",
        "            if i == n: break\n",
        "            A[i] += 1\n",
        "    return count\n",
        "\n",
        "def incr_count(n, printflag = False):\n",
        "    printflag and print(f'Choose {n} from  [0..{2*n-1}] without repetition.  List as increasing {n}- tuple.')\n",
        "    A = np.arange(n)\n",
        "    count = 0\n",
        "    i = 0\n",
        "    while A[n-1] < 2*n:\n",
        "        printflag and print(A)\n",
        "        count += 1\n",
        "        A[0] += 1\n",
        "        i = 0\n",
        "        while i < n-1 and A[i] >= A[i+1]:\n",
        "            A[i] = i\n",
        "            i = i+1\n",
        "            A[i] += 1\n",
        "    return count\n"
      ],
      "execution_count": null,
      "outputs": []
    },
    {
      "cell_type": "markdown",
      "metadata": {
        "id": "O7pttXSKZ6SC"
      },
      "source": [
        "### output of the counter functions\n",
        "Here are printed outputs for small values of $n$"
      ]
    },
    {
      "cell_type": "code",
      "metadata": {
        "id": "paUrYa_Tp9q5"
      },
      "source": [
        "binary_count(3,True)"
      ],
      "execution_count": null,
      "outputs": []
    },
    {
      "cell_type": "code",
      "metadata": {
        "id": "74Ro_cZftke8"
      },
      "source": [
        "n_count(3,True)"
      ],
      "execution_count": null,
      "outputs": []
    },
    {
      "cell_type": "code",
      "metadata": {
        "id": "gOdScPg-tnFZ"
      },
      "source": [
        "i_count(4,True)"
      ],
      "execution_count": null,
      "outputs": []
    },
    {
      "cell_type": "code",
      "metadata": {
        "id": "ZJDyuP8VqLiA"
      },
      "source": [
        "nondecr_count(4,True)"
      ],
      "execution_count": null,
      "outputs": []
    },
    {
      "cell_type": "code",
      "metadata": {
        "id": "nsqhoL6AvYnr"
      },
      "source": [
        "incr_count(3,True)"
      ],
      "execution_count": null,
      "outputs": []
    },
    {
      "cell_type": "markdown",
      "source": [
        "# Bijections and counting (ch. 6.3)\n",
        "\n",
        "Bijections let us formally define when two sets, $A$ and $B$, have the same cardinality: $|A|=|B|$ iff there is a bijection $f\\colon A\\to B$.  \n",
        "For finite sets, we can use this to say $|B|=n$ if and only if there is a bijection $f\\colon [1..n]\\to B$.\n",
        "\n",
        "## Q4.1: prove the sum rule\n",
        "Suppose that we are given disjoint sets $A$ and $B$, with $|A|=m$ and $|B|=n$.  The sum rule says $|A\\uplus B| = m+n$.   \n",
        "Prove that.  <details><summary>Here is what you can use:</summary>\n",
        "\n",
        "* We can assume that we are given two bijections $f_A\\colon [1..m]\\to A$ and $f_B\\colon [1..n]\\to B$.  \n",
        "* Because these are bijections we know that their inverses, $f_A^{-1}\\colon A\\to [1..m]$ and $f_B^{-1}\\colon B\\to [1..n]$, are also functions.  \n",
        "* We want to create a function $g\\colon [1..m+n]\\to A\\uplus B$.\n",
        "<details><summary>That is, given a number, your function should give an element from A or an element from B.</summary>\n",
        "E.g., if $x\\in [1..m]$ then get an element of $A$ from $f_A(x)$.  Otherwise $x\\in [m+1..m+n]$.  Can you use that to get an element of $B$ from $f_B$?\n",
        "</details>\n",
        "* Then we want to show $g$ is an injection and a surjection, or that it has an inverse that is a function.  Either will show $g$ is a bijection.\n",
        "\n",
        "</details>\n",
        "\n",
        "## Q4.2: prove the product rule\n",
        "Suppose that we are given any two sets $A$ and $B$, with $|A|=m$ and $|B|=n$.  The product rule says $|A\\times B| = m\\cdot n$.   \n",
        "Prove that.  <details><summary>Here is what you can use:</summary>\n",
        "\n",
        "* We can assume that we are given two bijections $f_A\\colon [1..m]\\to A$ and $f_B\\colon [1..n]\\to B$.  \n",
        "* Because these are bijections we know that their inverses, $f_A^{-1}\\colon A\\to [1..m]$ and $f_B^{-1}\\colon B\\to [1..n]$, are also functions.  \n",
        "* We want to create a function $g\\colon [1..m\\cdot n]\\to A\\times B$.\n",
        "<details><summary>That is, given a number, your function should give a pair: one element from A and one element from B.</summary>\n",
        "E.g., Think of laying out $m\\cdot n$ pairs in a table with $m$ rows and $n$ columns. Each row number $r$ can give $f_A(r)$ as the element of $A$, and column number $c$ can give $f_B(c)$. That will give you all pairs. Now, how do you get row and column numbers?  (from mod, floor, and/or ceiling, with care.)\n",
        "</details>\n",
        "* Then we want to show $g$ is an injection and a surjection, or that it has an inverse that is a function (every number has a pair, and every pair has a number).  Either will show $g$ is a bijection.\n",
        "\n",
        "</details>"
      ],
      "metadata": {
        "id": "JthevueUFpUX"
      }
    },
    {
      "cell_type": "markdown",
      "metadata": {
        "id": "EwKh7ZGZuDu2"
      },
      "source": [
        "# big-*O*: Asymptotic notation (ch. 6.3.1)\n",
        "For more complex programs, we usually don't do exact counts. Because the exact resources needed by an algorithm (esp. time and memory) depend on the specifics of the implementation (computer architecture, clock & bus speeds, quality of the compiler, quality of the programmer), we instead use *asymptotic notation* to capture the behavior as problem sizes get larger while ignoring multiplicative constants and lower-order terms.  By doing some small experiments, we can estimate the implementation-dependent constants and extrapolate to quite accurate bounds on resources needed in production.\n",
        "\n",
        "We'll focus on Big-$O$, which is an upper bound, but there are also big-$\\Omega$, a lower bound, and big-$\\Theta$, which combines both.  You'll see these in COMP 210, 550, technical interviews, and library documentation. For example, the Boost C++ Library lists the worst-case running time of every algorithm in big-O notation under the heading Complexity.  E.g., for [Dijkstra's shortest path algorithm](https://www.boost.org/doc/libs/1_80_0/libs/graph/doc/dijkstra_shortest_paths.html), time depends on the number of graph vertices $V$ and number of edges $E$:\n",
        "\n",
        "> **Complexity**  \n",
        "> The time complexity is $O(V \\log V + E)$.\n",
        "\n",
        "Big-$O$ is often used in an informal (even sloppy) manner (some YouTube examples are linked below), but actually has a precise definition using nested quantifiers -- in computer science, we even are precise about what exactly we ignore."
      ]
    },
    {
      "cell_type": "markdown",
      "metadata": {
        "id": "UXHMVifEPYQ_"
      },
      "source": [
        "## Some YouTube intros\n",
        "Most of these don't precisely define big-$O$, but use its properties, especially for $O(1)$ constant time, $O(n)$ linear time, and $O(n^2)$ *quadratic* time.\n",
        "* Undefined Behavior: 8:12 does give precise definition, then a lot of visuals to explain why.  Recommended: https://www.youtube.com/watch?v=MyeV2_tGqvw\n",
        "* Hackerrank: Skipping the 2min intro story (which you can watch if you want to meet the author of \"Cracking the Coding Interview\"), https://youtu.be/v4cd1O4zkGw?t=134 is a good 6:20 survey at the level that big-$O$ is used in interviews. Gives both positive and negative examples.\n",
        "* Michael Sambol: 5 min intro is pretty good, but adds as sets: https://www.youtube.com/watch?v=__vX2sjlpXU\n",
        "* CS Dojo 36min!: lots of examples, experiments, plots of results: https://www.youtube.com/watch?v=D6xkbGLQesk. Never actual defines big-$O$!\n",
        "* Colt Steele 22min: link to 9:45 for the definition, https://youtu.be/kS_gr2_-ws8?t=586. You can go back to the start for the motivation.\n",
        "* Eric Grimson (MIT Opencourseware) 51min: link to 29:40 for the use of asymptotics https://youtu.be/o9nW0uBqvEo?t=1778. He starts by arguing why asymptotics is the right thing to use.  He's a good lecturer, but most of the video is him talking, so not good if you are in a hurry.\n",
        "![why asymptotics](https://i.imgur.com/HlqtuHXm.png)\n",
        "* Erik Demaine (MIT Algorithms lecture 2) 1hour: https://www.youtube.com/watch?v=whjt_N9uYFI defn at 2:30 uses = instead of $\\in$, and doesn't put all quantifiers at the start, because he's using the textbook CLRS (the white book.) Good prep for COMP 550.\n",
        "\n"
      ]
    },
    {
      "cell_type": "markdown",
      "metadata": {
        "id": "t-psULXyPj6N"
      },
      "source": [
        "# Precise definition of big-*O*\n",
        "\n",
        "Big-$O$ defines a set of functions of the form $f\\colon \\mathbb{N} \\to \\mathbb{R}$ based on another function $g\\colon \\mathbb{N} \\to \\mathbb{R}$.  In words, $f(n)\\in O\\bigl(g(n)\\bigr)$ if, once $n$ becomes large enough, $f(n)$ is always positive but stays below some chosen constant times $g(n)$.  \n",
        "![big-O](https://i.imgur.com/A8wmyLQm.png)\n",
        "\n",
        "In notation, $\\exists _{N,c>0}\\ \\forall_ { n > N } \\ 0\\le f(n)\\le c g(n)$. That is, we get to pick $N$ and $c$, then, as illustrated in the figure above, we ignore what happens before $N$, but for $n>N$, we insist that $f(n)$ is positive and bounded above by $cg(n)$.   Thus, if we allocate $cg(n)$ time or memory, we know we'll have enough."
      ]
    },
    {
      "cell_type": "markdown",
      "metadata": {
        "id": "whsquMyYDiWj"
      },
      "source": [
        "## Examples of using the definition\n",
        "Here's how we could use the definition to:\n",
        "* Show $3n+2\\sqrt n + 1\\in O(n)$:  \n",
        "I need to choose $N,c>0$, so $\\forall_{n\\ge N}\\,0\\le 3n+2\\sqrt n + 1 \\le cn$.  \n",
        "I could pick $N=1$ and observe $\\forall_{n\\ge N}$ that $ 3n+2\\sqrt n + 1\\le 3n+2n+n=6n$, so any $c\\ge 6$ works. QED (Or I could start with $N=4$ and use any $c\\ge 4.25$. There is a lot of flexibility.)\n",
        "* Show that for any reals $1\\le a< b$, function $a^n\\in O(b^n)$.  \n",
        "Given reals $1\\le a < b$, I can choose $N=1,c=1$ to observe that $0\\le a^n< b^n $, so $a^n\\in O(b^n)$.\n",
        "\n",
        "**Remark1:** The alternation of quantifiers is why big-$O$ is tricky.  Remember what you get to choose, and what is chosen for you.  \n",
        "**Remark2:** It feels strange to replace $2\\sqrt n$ by $2n$ and 1 by $n$ in the first example, because we know those are really sloppy estimates as $n$ grows large.  But when we have $3n$ out in front, we can use just increase the constant to vacuum up the other terms: Since we know $1\\le n$, we have $ 2\\sqrt n\\le n$ and $3n+2\\sqrt n+1\\le 3n+2n+1\\le 3n+2n+n=6n$.  Big-$O$ suppresses that constant, so as long as the inequalities hold for all $n\\ge N$, it is ok to just swamp the lower order terms.  \n",
        "**Remark3:** Math often uses a limit-based definition:  Assuming that $f(n),g(n)>0$ everywhere, if the limit $\\lim_{n\\to \\infty}f(n)/g(n)$ is finite, then $f(n)\\in  O\\bigl(g(n)\\bigr)$.  (If the limit is zero, then there may be a smaller function that is a tighter bound than $g(n)$, as well.)  Our definition applies even if the limit cannot be defined."
      ]
    },
    {
      "cell_type": "markdown",
      "source": [
        "## Q5.1: Selection sort is $O(n^2)$\n",
        "You don't need to know the details, but an algorithm called selection sort sorts a list of $n$ elements by comparing all $n \\choose 2$ pairs of indices in the list and swapping the values stored there if they are out of order. On gradescope, you are asked to complete a proof that ${n \\choose 2}\\in O(n^2)$."
      ],
      "metadata": {
        "id": "upac9alSsWh8"
      }
    },
    {
      "cell_type": "markdown",
      "source": [
        "Q5.2: big-$\\Theta$ definition from CLRS\n",
        "The textbook for COMP 550, CLRS Introduction to Algorithms, has this definition of big-Theta, which gives both an upper and lower bound.  Unfortunately, it has quantifiers both at the start and end of the expression.\n",
        "![CLRS_big-Theta.PNG](data:image/png;base64,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)\n",
        "\n",
        "Do they mean:  \n",
        "A. $\\forall_{n\\ge n_0}\\exists_ {n_0,c_1,c_2>0}\\ 0\\le c_1g(n)\\le f(n)\\le c_2g(n)$, or  \n",
        "B. $\\exists_ {n_0,c_1,c_2>0} \\forall_{n\\ge n_0}\\ 0\\le c_1g(n)\\le f(n)\\le c_2g(n)$?\n",
        "\n",
        "Are there hints from type or scope that you can use to disambiguate and choose correctly?"
      ],
      "metadata": {
        "id": "4HbaqR0jVkL4"
      }
    },
    {
      "cell_type": "markdown",
      "metadata": {
        "id": "Th6i5zdCWfTB"
      },
      "source": [
        "## Q6: What is the negation of big-O?  \n",
        "When is  function $f\\colon \\mathbb{Z}^+ \\to \\mathbb{R}$ not in big-O of  $g\\colon \\mathbb{Z}^+ \\to \\mathbb{R}$: that is, $f(n)\\not\\in O\\bigl(g(n)\\bigr)$?  \n",
        "Q6.1: Write down the negation of the definition in notation, using de Morgan's laws to push the negations down into the inequalities.  In addition, please state what your notation says in words.   \n",
        "Q6.2: Using your negation from 5.2, complete a proof that $n\\lg n \\notin O(n)$.  \n",
        "\n",
        "**Example (cont):**\n",
        "* Prove that for any reals $1\\le a< b$, function $a^n\\in O(b^n)$, but $b^n\\not\\in O(a^n)$.  \n",
        "   * Prove $a^n\\in O(b^n)$: (Repeated from above) Given reals $1\\le a < b$, I can choose $N=1,c=1$ to observe that $0\\le a^n< b^n $, so $a^n\\in O(b^n)$.\n",
        "   * Prove $b^n\\not\\in O(a^n)$: I want to show that no matter what $c>0$ is given, I can find $n\\ge N$ with $b^n\\ge ca^n$, or $(b/a)^n \\ge c$.  Since $b/a>1$, I can choose $n=\\max(N,\\left\\lceil \\log _ {b/a} c\\right\\rceil)$. Then $(b/a)^n > (b/a)^{ \\log _{b/a} c} = c$, so $b^n\\not\\in O(a^n)$.\n"
      ]
    },
    {
      "cell_type": "markdown",
      "metadata": {
        "id": "JOayg0IOCtaH"
      },
      "source": [
        "## Q7: Compare functions by big-$O$\n",
        "Define two relations on functions that let us do comparisons:\n",
        "* $f(n)\\prec g(n)$ iff $f(n)\\in O\\bigl(g(n)\\bigr)$\n",
        "* $f(n)\\approx g(n)$ iff both $f(n)\\prec g(n)$ and $g(n) \\prec f(n)$.  \n",
        "\n",
        "Q7.1: Put the five loops of Q2.# into order by $\\prec$ and $\\approx$.  Your answer should be a permutation of 12345, with < or = interspersed, no spaces. For example, if you think they are all $\\approx$, you'd answer 1=2=3=4=5, but if  you think the counts on n=3 give the right order, you'd answer 1<3<2<4<5.\n",
        "\n",
        "Q7.2: Put the five loops of Q2.# into order by $\\prec$ and $\\approx$. (You need $\\approx$ only once.) Your answer should be a permutation of 12345, with <,= interspersed, no spaces.\n",
        "\n",
        "**Remark:** $\\approx$ is actually an equivalence relation (reflexive, symmetric, and transitive).  If we take one representative from each set of equivalent functions, then $\\prec$ becomes a partial order."
      ]
    },
    {
      "cell_type": "markdown",
      "metadata": {
        "id": "q_gmAM1L-yv5"
      },
      "source": [
        "#### Timing loops\n",
        "In case it helps, here are the timings for the loops of Q2,Q3, with both linear and log plots.   \n"
      ]
    },
    {
      "cell_type": "code",
      "metadata": {
        "id": "g1-BV8xYewfj"
      },
      "source": [
        "tester(\"one_loop\",[10**5, 400000, 10**6, 4000000, 10**7],10)\n",
        "tester(\"nested2\",[10**2, 400, 10**3, 4000, 10**4],3)\n",
        "tester(\"nested_ij\",[10**2, 400, 10**3, 4000, 10**4],5)\n",
        "tester(\"nested_ijk\",[33, 60, 10**2, 300, 500],3)\n",
        "tester(\"nested3\",[33, 60, 10**2, 200, 300],2);"
      ],
      "execution_count": null,
      "outputs": []
    },
    {
      "cell_type": "code",
      "metadata": {
        "id": "oddcVO28WU1P"
      },
      "source": [
        "tester(\"binary_count\",[8,10,12,14,16,17,18],5)\n",
        "tester(\"n_count\",[4,5,6,7,8],2)\n",
        "tester(\"nondecr_count\",[6,7,8,9,10,11],2)\n",
        "tester(\"i_count\",[4,5,6,7,8,9],2)\n",
        "tester(\"incr_count\",[4,5,6,7,8,9,10],2);"
      ],
      "execution_count": null,
      "outputs": []
    }
  ]
}